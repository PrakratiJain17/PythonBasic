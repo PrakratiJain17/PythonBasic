{
  "nbformat": 4,
  "nbformat_minor": 0,
  "metadata": {
    "colab": {
      "provenance": []
    },
    "kernelspec": {
      "name": "python3",
      "display_name": "Python 3"
    },
    "language_info": {
      "name": "python"
    }
  },
  "cells": [
    {
      "cell_type": "markdown",
      "source": [
        "Q.1 Explain the key features of Python that make it popular choice for programming.\n",
        "\n",
        "ANS:\n",
        "1. Python is a programming language whose syntax are easy to read and understand\n",
        "2. Python is dynamically typed language i.e. we do not have to declare type of variable when we create it.\n",
        "3. Python is widely used in data science and machine learning due to libraries like NumPy, Pandas, SciPy, scikit-learn, TensorFlow, and PyTorch. These libraries provide powerful tools for data analysis and for building machhine learning models.\n",
        "4. Python has large and active community of developers.This community helps in problem solving and continuous improvement of the language.\n",
        "5.  Python supports multiple programming paradigms, including procedural, object-oriented, and functional programming.\n",
        "6. Python is an interpreted language, which means that code is executed line by line. This allows for quick testing and debugging, as there is no need for a separate compilation step.\n",
        "7. Python has vast standard library for various tasks which reducesthe need to write code from scratch.\n",
        "\n"
      ],
      "metadata": {
        "id": "-P2t7z1m_RCE"
      }
    },
    {
      "cell_type": "markdown",
      "source": [],
      "metadata": {
        "id": "8-dM8pSS_zUw"
      }
    },
    {
      "cell_type": "code",
      "execution_count": 18,
      "metadata": {
        "colab": {
          "base_uri": "https://localhost:8080/"
        },
        "id": "X8GRtRX6-HDM",
        "outputId": "b333a991-b1fd-4278-a240-6a8d8654f6bf"
      },
      "outputs": [
        {
          "output_type": "stream",
          "name": "stdout",
          "text": [
            "Positive Integer\n",
            "1 2 3 4 5 \n",
            "1 3 5 7 9 Both numbers are positive\n",
            "At least one number is positive\n",
            "This is true!\n",
            "This is also true!\n"
          ]
        }
      ],
      "source": [
        "# Q.2 Describe the rola pf predefined keywords in Python and provide example of how these are used in a program\n",
        "# ANS: keywords in Python are reserved words that have special meanings and purposes.\n",
        "# These keywords form the basic building blocks of Python's syntax and are used to define the structure and flow of a program.\n",
        "# These keywords cannot be used as identifiers (variable name.function name etc)\n",
        "# To get a list of keywords in Python we can use following syntax: help ('keywords')\n",
        "# Some example of keywords how they are used in program are as follows:\n",
        "# 1.if-elif-else :These are condition statements and are used to execute a program on the basis of condition\n",
        "# Code for the conditional statement:\n",
        "n=7\n",
        "if n>0:\n",
        "  print(\"Positive Integer\")\n",
        "elif n<0:\n",
        "  print(\"Negative integer\")\n",
        "else:\n",
        "  print(\"Number is 0\")\n",
        "#2 .for, while, break, continue: Used for loops and loop control and loops are employed to repeat a sequence of actions or code until a specific condition is fulfilled.\n",
        "# Code for while loop and break : while loops are used for executing code until a specified condition becomes False and break is used to exit the loop when a certain condition in met\n",
        "i=1\n",
        "while(i<=10):\n",
        "  if i==6:\n",
        "    break\n",
        "  print (i,end=\" \")\n",
        "  i=i+1\n",
        "print()\n",
        "# Code for for loop and continue: for loops are used for iterating over a sequence of elements and continue is used to skip the certain conditions within the loop without exiting the entire loop\n",
        "for i in range(11):\n",
        "  if(i%2==0):\n",
        "    continue\n",
        "  print (i,end=\" \")\n",
        "# 3. and & or : and and or are logical operators used to combine conditional statements.\n",
        "# and Operator :The and operator returns True if both conditions are True. If any one of the conditions is False, it returns False.\n",
        "a=17\n",
        "b=7\n",
        "if (a>0 and b>0):\n",
        "  print(\"Both numbers are positive\")\n",
        "else:\n",
        "    print(\"At least one number is negative.\")\n",
        "# or operator: The or operator returns True if at least one of the conditions is True. If both conditions are False, it returns False.\n",
        "a=17\n",
        "b=-7\n",
        "if (a>0 or b>0):\n",
        "  print(\"At least one number is positive\")\n",
        "else:\n",
        "    print(\"Both number are negative.\\n\")\n",
        "\n",
        "# 4.True, False :Used to represent boolean values\n",
        "if True:\n",
        "    print(\"This is true!\")\n",
        "if not False:\n",
        "    print(\"This is also true!\")\n",
        "\n"
      ]
    },
    {
      "cell_type": "markdown",
      "source": [
        "Q.3 Compare and contrast mutable and immutable objects in python with example\n",
        "\n",
        "ANS: MUTABLE OBJECTS                                    \n",
        "1. Objects can be modified after creation\n",
        "2. Provide methods to alter data i,e to add or remove data\n",
        "3. Used when we need to update data frequently\n",
        "4. example: Lists,Dictionaries,Set\n",
        "\n",
        "   \n",
        "   IMMUTABLE OBJECTS\n",
        "\n",
        "1. Objects cannot be modified after creation\n",
        "2. Does not provides methods to alter data\n",
        "3. Used when we do not need to change the data i.e to maintain the data integrity.for example emp_id,aadhar number\n",
        "4. Example:Strings,tuples,frozen Sets"
      ],
      "metadata": {
        "id": "Vz98hDywPdOq"
      }
    },
    {
      "cell_type": "code",
      "source": [
        "# Q.4 Describe type of operators in Python and provide examples of how they are used\n",
        "# ANS: Operators are special symbols or keywords that are used to carry out specific actions on numbers or variables in Python expressions.\n",
        "# Python supports various types of operators. They are:\n",
        "\n",
        "#1.  Arithmetic operators (+, -, *, /,**,%,//) :\n",
        "# Arithmetic operators in Python are used to perform basic mathematical operations\n",
        "a = 10\n",
        "b = 17\n",
        "print(a + b)  # Addition\n",
        "print(a - b)  # Subtraction\n",
        "print(a * b)  # Multiplication\n",
        "print(a / b)  # Division\n",
        "print(a % b)  # Modulus (remainder)\n",
        "print(a // b) # Floor Division (quotient)\n",
        "print(a ** b) # Exponentiation (power)\n",
        "\n",
        "#2.  comparison operators (==, !=, <, >,>=,<=) :\n",
        "# Used two compare two values and return a Boolean result (True or False)\n",
        "a=24\n",
        "b=6\n",
        "print(a == b)  # Equal to (a is equal to b)\n",
        "print(a != b)  # Not equal to (a is not equal to b)\n",
        "print(a > b)   # Greater than (a is greater than b)\n",
        "print(a < b)   # Less than (a is less than b)\n",
        "print(a >= b)  # Greater than or equal to (a is greater than or equal to b)\n",
        "print(a <= b)  # Less than or equal to (a is less than or equal to b)\n",
        "\n",
        "#3.  logical operators (and, or, not) :\n",
        "#Logical operators in Python are used to combine conditional statements and return a Boolean result\n",
        "a = 10\n",
        "b = 20\n",
        "c = 5\n",
        "print ((a < b) and (c < b))  # Both conditions are true\n",
        "print ((a > b) or (c < b))  # At least one condition is true\n",
        "print (not (a < b))        # Condition is false\n",
        "\n",
        "#4.   assignment operators (=, +=, -=, *=, /=,%=,//=):\n",
        "#These operators are used to assign values to variables.\n",
        "a = 20\n",
        "a += 5 # Addition Assignment\n",
        "print(a)\n",
        "a -= 3 # Subtraction Assignment\n",
        "print(a)\n",
        "a *= 4 # Multiplication Assignment\n",
        "print(a)\n",
        "a /= 2 #Division Assignment\n",
        "print(a)\n",
        "a %= 3 # Modulus Assignment\n",
        "print(a)\n",
        "a //= 2 # Floor Division Assignment\n",
        "print(a)\n",
        "\n",
        "#5.  Bitwise Operators:-\n",
        "#These operators are used to perform bitwise operations on integers.\n",
        "a = 12\n",
        "b = 26\n",
        "print(a & b)  # Bitwise AND (a and b)\n",
        "print(a | b)  # Bitwise OR (a or b)\n",
        "print(a ^ b)  # Bitwise XOR (a xor b)\n",
        "print(~a)     # Bitwise NOT (~a)\n",
        "print(a & b)  # Bitwise AND (a and b)\n",
        "print(a | b)  # Bitwise OR (a or b)\n",
        "print(a ^ b)  # Bitwise XOR (a xor b)\n",
        "\n",
        "#6.  Membership Operators:\n",
        "#These operators are used to check if a value is present in a sequence.\n",
        "a = [6, 10, 12, 17, 24,26]\n",
        "print(10 in a)  # True if 10 is in the list a otherwise false\n",
        "print(7 not in a)  # True if 7 is not in the list a otherwise false\n",
        "\n",
        "#7.  Identity Operators:\n",
        "#These operators are used to check if two variables refer to the same object.\n",
        "a = 98\n",
        "b = 100\n",
        "print(a == b)  # False if a is not equal to b\n",
        "print(a is b)  # True if a and b refer to the same object\n",
        "print(a is not b)  # True if a and b do not refer to the same object"
      ],
      "metadata": {
        "colab": {
          "base_uri": "https://localhost:8080/"
        },
        "id": "ros3B1JxPXPn",
        "outputId": "025a42cc-3094-4db1-d8ac-15a24cef83b8"
      },
      "execution_count": 24,
      "outputs": [
        {
          "output_type": "stream",
          "name": "stdout",
          "text": [
            "27\n",
            "-7\n",
            "170\n",
            "0.5882352941176471\n",
            "10\n",
            "0\n",
            "100000000000000000\n",
            "False\n",
            "True\n",
            "True\n",
            "False\n",
            "True\n",
            "False\n",
            "True\n",
            "True\n",
            "False\n",
            "25\n",
            "22\n",
            "88\n",
            "44.0\n",
            "2.0\n",
            "1.0\n",
            "8\n",
            "30\n",
            "22\n",
            "-13\n",
            "8\n",
            "30\n",
            "22\n",
            "True\n",
            "True\n",
            "False\n",
            "False\n",
            "True\n"
          ]
        }
      ]
    },
    {
      "cell_type": "code",
      "source": [
        "# Q.4 Explain concept of type casting in Python with examples\n",
        "# ANS:  Type casting, also referred to as type conversion, is the process of changing one data type to another in Python.\n",
        "# Python provides built-in functions for type casting, such as int(), float(), str(), list(), tuple(), dict(), etc.\n",
        "#Implicit Type Conversion:\n",
        "#Python automatically converts one data type to another during operations.\n",
        "a= 7\n",
        "b= 3.14\n",
        "print(a*b)\n",
        "\n",
        "# Explicit Type Conversion :\n",
        "# Explicit Type Conversion  is the process where you manually convert one data type to another using specific functions.\n",
        "\n",
        "#string to integer\n",
        "a=\"2\"\n",
        "b=3\n",
        "print(int(a)+b)\n",
        "\n",
        "#float to int\n",
        "a=3.4\n",
        "print(int(a))\n",
        "\n",
        "#int to float\n",
        "a=3\n",
        "print(float(a))\n",
        "\n",
        "#int to string\n",
        "s=15\n",
        "s=str(s)\n",
        "print(s,type(s))\n",
        "\n",
        "#string to float\n",
        "a=\"8\"\n",
        "print(float(a))\n",
        "\n",
        "# list to tuple\n",
        "list1=[1,2,3,3]\n",
        "print(tuple(list1))\n",
        "\n",
        "# Tuple to list\n",
        "tup1=(4,4,5,6,3)\n",
        "print(list(tup1))\n",
        "\n",
        "#List to set\n",
        "list1=[1,23,3,4,5,4]\n",
        "print(set(list1))\n",
        "\n",
        "# String to bool\n",
        "str1=\"Hello world\"\n",
        "print(bool(str1))\n",
        "\n",
        "# int to bool\n",
        "a=21\n",
        "b=0\n",
        "print(bool(a))\n",
        "print(bool(b))\n"
      ],
      "metadata": {
        "colab": {
          "base_uri": "https://localhost:8080/"
        },
        "id": "ohb5ev0CaMV2",
        "outputId": "f639f978-9f5f-42e0-ad2b-3431f9800a44"
      },
      "execution_count": 51,
      "outputs": [
        {
          "output_type": "stream",
          "name": "stdout",
          "text": [
            "21.98\n",
            "5\n",
            "3\n",
            "3.0\n",
            "15 <class 'str'>\n",
            "8.0\n",
            "(1, 2, 3, 3)\n",
            "[4, 4, 5, 6, 3]\n",
            "{1, 3, 4, 5, 23}\n",
            "True\n",
            "True\n",
            "False\n"
          ]
        }
      ]
    },
    {
      "cell_type": "code",
      "source": [
        "# Q.6 How do conditional statements work in Python? Illustrate with example\n",
        "#ANS: Conditionals in Python are used to execute code based on the evaluation of one or more conditions.\n",
        "#Python supports conditional statements such as if, elif (else if), and else to control the flow of execution.\n",
        "# if condition: Block of code executed if condition is True\n",
        "# elif another_condition: Block of code executed if the previous condition is False and this condition is True\n",
        "# else: Block of code executed if all previous conditions are False\n",
        "n=float(input(\"Enter a number :\"))\n",
        "if n>0:\n",
        "  print(\"Positive Integer\")\n",
        "elif n<0:\n",
        "  print(\"Negative integer\")\n",
        "else:\n",
        "  print(\"Number is 0\")\n"
      ],
      "metadata": {
        "colab": {
          "base_uri": "https://localhost:8080/"
        },
        "id": "oX95PcuanbJJ",
        "outputId": "1659ba26-2c53-4e02-baac-97cf7c02b32d"
      },
      "execution_count": 52,
      "outputs": [
        {
          "output_type": "stream",
          "name": "stdout",
          "text": [
            "Enter a number :17.7\n",
            "Positive Integer\n"
          ]
        }
      ]
    },
    {
      "cell_type": "code",
      "source": [
        "# Q.7  Describe the different types of loops in Python and their use cases with examples.\n",
        "# ANS: n Python, loops are employed to repeat a sequence of actions or code until a specific condition is fulfilled.\n",
        "#Python offers two primary types of loops: for loops and while loops\n",
        "# While loop: while loops are used for executing code until a specified condition becomes False\n",
        "count = 50\n",
        "while count>0:\n",
        "    print(count ,end=\" \")\n",
        "    count=count-1\n",
        "print()\n",
        "# For Loop: for loops are used for iterating over a sequence of elements\n",
        "for i in range(101):\n",
        "  if i%2==0:\n",
        "    print(i,end=\" \")\n"
      ],
      "metadata": {
        "colab": {
          "base_uri": "https://localhost:8080/"
        },
        "id": "G_bEi33xox7A",
        "outputId": "4df444e0-7c0d-4824-d9fe-2ba765193155"
      },
      "execution_count": 57,
      "outputs": [
        {
          "output_type": "stream",
          "name": "stdout",
          "text": [
            "50 49 48 47 46 45 44 43 42 41 40 39 38 37 36 35 34 33 32 31 30 29 28 27 26 25 24 23 22 21 20 19 18 17 16 15 14 13 12 11 10 9 8 7 6 5 4 3 2 1 \n",
            "0 2 4 6 8 10 12 14 16 18 20 22 24 26 28 30 32 34 36 38 40 42 44 46 48 50 52 54 56 58 60 62 64 66 68 70 72 74 76 78 80 82 84 86 88 90 92 94 96 98 100 "
          ]
        }
      ]
    }
  ]
}